{
 "cells": [
  {
   "cell_type": "code",
   "execution_count": 1,
   "id": "cd951b01-5932-470e-ac45-6f8d66a08882",
   "metadata": {},
   "outputs": [],
   "source": [
    "from astropy.coordinates import SkyCoord\n",
    "import astropy.units as u\n",
    "import astropy.coordinates as c\n",
    "from astroplan import Observer, FixedTarget\n",
    "from astropy.time import Time\n",
    "from astropy.table import Table\n",
    "from astropy.coordinates import SkyCoord,EarthLocation, AltAz\n",
    "import astropy.units as u\n",
    "import astropy\n",
    "import numpy as np\n",
    "import matplotlib.pyplot as plt"
   ]
  },
  {
   "cell_type": "code",
   "execution_count": 2,
   "id": "5a219b06-e8a5-41ba-a742-e0d0f65731c4",
   "metadata": {},
   "outputs": [
    {
     "data": {
      "text/html": [
       "<div><i>Table length=14</i>\n",
       "<table id=\"table4806724880\" class=\"table-striped table-bordered table-condensed\">\n",
       "<thead><tr><th>Name</th><th>ra</th><th>dec</th></tr></thead>\n",
       "<thead><tr><th>str12</th><th>float64</th><th>float64</th></tr></thead>\n",
       "<tr><td>FRB20240201A</td><td>2.61634</td><td>0.245884</td></tr>\n",
       "<tr><td>FRB20240203</td><td>0.155403</td><td>0.276421</td></tr>\n",
       "<tr><td>FRB20240216</td><td>2.6718</td><td>0.245056</td></tr>\n",
       "<tr><td>FRB20240318</td><td>2.62604</td><td>0.656482</td></tr>\n",
       "<tr><td>J0311+1402</td><td>0.83486428505</td><td>0.24507040691</td></tr>\n",
       "<tr><td>FRB20240114A</td><td>5.61849411485</td><td>0.0755647106435</td></tr>\n",
       "<tr><td>FRB20201124A</td><td>1.34416</td><td>0.454845</td></tr>\n",
       "<tr><td>FRB20180301A</td><td>1.62712</td><td>0.0815253</td></tr>\n",
       "<tr><td>J1012+5307</td><td>2.6727854681111443</td><td>0.9270716946783638</td></tr>\n",
       "<tr><td>J1022+1001</td><td>2.718204102295288</td><td>0.17508037680814184</td></tr>\n",
       "<tr><td>J2145-0750</td><td>5.697805941281582</td><td>-0.1368075848974223</td></tr>\n",
       "<tr><td>Crab_PSR</td><td>1.4596732110242794</td><td>0.3842252837309499</td></tr>\n",
       "<tr><td>B0656+14_PSR</td><td>1.831737303548451</td><td>0.2485125840158764</td></tr>\n",
       "<tr><td>J0549+34</td><td>1.5253450441908774</td><td>0.5936107192873269</td></tr>\n",
       "</table></div>"
      ],
      "text/plain": [
       "<Table length=14>\n",
       "    Name             ra                 dec        \n",
       "   str12          float64             float64      \n",
       "------------ ------------------ -------------------\n",
       "FRB20240201A            2.61634            0.245884\n",
       " FRB20240203           0.155403            0.276421\n",
       " FRB20240216             2.6718            0.245056\n",
       " FRB20240318            2.62604            0.656482\n",
       "  J0311+1402      0.83486428505       0.24507040691\n",
       "FRB20240114A      5.61849411485     0.0755647106435\n",
       "FRB20201124A            1.34416            0.454845\n",
       "FRB20180301A            1.62712           0.0815253\n",
       "  J1012+5307 2.6727854681111443  0.9270716946783638\n",
       "  J1022+1001  2.718204102295288 0.17508037680814184\n",
       "  J2145-0750  5.697805941281582 -0.1368075848974223\n",
       "    Crab_PSR 1.4596732110242794  0.3842252837309499\n",
       "B0656+14_PSR  1.831737303548451  0.2485125840158764\n",
       "    J0549+34 1.5253450441908774  0.5936107192873269"
      ]
     },
     "execution_count": 2,
     "metadata": {},
     "output_type": "execute_result"
    }
   ],
   "source": [
    "target_table = Table.read('IE613_sources_radians.txt', format='ascii')\n",
    "target_table"
   ]
  },
  {
   "cell_type": "code",
   "execution_count": 3,
   "id": "19cd4f1b-5876-4ca9-bd68-0c922b4b0663",
   "metadata": {},
   "outputs": [
    {
     "name": "stdout",
     "output_type": "stream",
     "text": [
      "(14,)\n"
     ]
    }
   ],
   "source": [
    "ra=np.degrees(target_table['ra'].value)\n",
    "dec=np.degrees(target_table['dec'].value)\n",
    "print(np.shape(ra))"
   ]
  },
  {
   "cell_type": "code",
   "execution_count": 4,
   "id": "96afed49-6339-4ef4-9cf5-778ff8ffb683",
   "metadata": {},
   "outputs": [],
   "source": [
    "f=open('IE613_sources.txt','w')\n",
    "for i in range(len(ra)):\n",
    "    f.write(f\"{target_table['Name'][i]}  {ra[i]} {dec[i]} \\n\")\n",
    "    \n",
    "f.close()   "
   ]
  },
  {
   "cell_type": "code",
   "execution_count": null,
   "id": "621772c7-b534-4b80-862d-382bb8297a0a",
   "metadata": {},
   "outputs": [],
   "source": []
  }
 ],
 "metadata": {
  "kernelspec": {
   "display_name": "Python 3 (ipykernel)",
   "language": "python",
   "name": "python3"
  },
  "language_info": {
   "codemirror_mode": {
    "name": "ipython",
    "version": 3
   },
   "file_extension": ".py",
   "mimetype": "text/x-python",
   "name": "python",
   "nbconvert_exporter": "python",
   "pygments_lexer": "ipython3",
   "version": "3.11.8"
  }
 },
 "nbformat": 4,
 "nbformat_minor": 5
}
